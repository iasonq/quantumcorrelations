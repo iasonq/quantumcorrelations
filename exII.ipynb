{
 "cells": [
  {
   "cell_type": "code",
   "execution_count": 575,
   "metadata": {},
   "outputs": [],
   "source": [
    "import numpy as np\n",
    "import cvxpy as cp\n",
    "import itertools\n",
    "from itertools import product as iters"
   ]
  },
  {
   "cell_type": "markdown",
   "metadata": {},
   "source": [
    "I. TWO POINT QUANTUM CORRELATORS"
   ]
  },
  {
   "cell_type": "markdown",
   "metadata": {},
   "source": [
    "Main idea:\n",
    "Define γ = (\n",
    "    0, Pt\n",
    "    P, 0 \n",
    ")\n",
    "Define P based on the functional\n",
    "Do X = cp.Variable((2*n, 2*n), symmetric=True)\n",
    "cp.Optimize(cp.trace(γ@X))"
   ]
  },
  {
   "cell_type": "code",
   "execution_count": 578,
   "metadata": {},
   "outputs": [],
   "source": [
    "def Pf(n):\n",
    "    P = np.zeros((n, n))\n",
    "    for i in range(0, n):\n",
    "        P[i, i] = 1\n",
    "    for i in range(0, n-1):\n",
    "        P[i+1, i] = 1\n",
    "    P[0, n-1] = -1\n",
    "    return P\n",
    "\n",
    "def gamma(P,n):\n",
    "    zer = np.zeros((n,n))\n",
    "    g = np.block([[zer, P.T], [P, zer]])\n",
    "    return g"
   ]
  },
  {
   "cell_type": "code",
   "execution_count": 579,
   "metadata": {},
   "outputs": [
    {
     "name": "stdout",
     "output_type": "stream",
     "text": [
      "n = 2 | 2.828427124639405\n",
      "n = 3 | 5.196152427563769\n",
      "n = 4 | 7.391037008387376\n",
      "n = 5 | 9.51059333335389\n",
      "n = 6 | 11.591107813376679\n"
     ]
    }
   ],
   "source": [
    "for n in range(2, 7):\n",
    "\n",
    "    P = Pf(n)\n",
    "    g = gamma(P,n)\n",
    "\n",
    "\n",
    "    X = cp.Variable((2*n, 2*n), PSD=True)\n",
    "    \n",
    "    con = []\n",
    "    con+= [X[i, i] == 1 for i in range(0, 2*n)]\n",
    "    #for i in range(2*n):\n",
    "    #    con.append(X[i, i] == 1)\n",
    "\n",
    "    obj = cp.Maximize( cp.trace(g@X)/2 )\n",
    "    prob = cp.Problem( obj , con)\n",
    "    print(\"n = \" + str(n) + \" |\", prob.solve())\n"
   ]
  },
  {
   "cell_type": "markdown",
   "metadata": {},
   "source": [
    "II. INFORMATION CAUSALITY"
   ]
  },
  {
   "cell_type": "code",
   "execution_count": 580,
   "metadata": {},
   "outputs": [],
   "source": [
    "import sympy as sy\n",
    "from sympy.abc import a,b,x,y,l\n",
    "from sympy import DiracDelta as DD\n",
    "x0 = sy.Symbol(\"x_0\")\n",
    "x1 = sy.Symbol(\"x_1\")\n",
    "l = sy.Symbol(\"λ\")"
   ]
  },
  {
   "cell_type": "markdown",
   "metadata": {},
   "source": [
    "We want to see if information causality is violated, or better said for what λ it is. \n",
    "\n",
    "That means we to find the λ for which the following equation is violated/does not hold:\n",
    "$$ \\sum_y I(b:X_y) \\leq m = 1$$\n",
    "we use that\n",
    "$$ I(b:X_y) = H(b) + H(X_y) - H(b, X_y)$$\n",
    "where $H(b, X_y)$ is the joint entropy.\n",
    "We can also split the term $I(b:X_y) = I(b:X_0) + I(b:X_1)$ and calculate.\n",
    "\n",
    "Generally:\n",
    "$$ H(x) = -P(x) log_2(P(x)) $$\n",
    "which can be done analogously for $H(b, X_y)$,\n",
    "\n",
    "$$ H(b, X_y) = -\\sum_{b,y} P(b, X_y) \\log_2(P(b, X_y)) $$"
   ]
  },
  {
   "cell_type": "markdown",
   "metadata": {},
   "source": [
    "Secondary note:\n",
    "$$ H(X|Y):=\\sum_{xy} p(x|y)\\log p(x|y) p(y) $$"
   ]
  },
  {
   "cell_type": "markdown",
   "metadata": {},
   "source": [
    "To clarify:\n",
    "$$ H(b) $$\n",
    "takes the isotropic distribution.\n",
    "\n",
    "While \n",
    "$$ H(X_y)$$\n",
    "takes a uniform distribution, i.e equal outcomes for any input. We have $x_0, x_1 \\in \\{ 0, 1\\}$."
   ]
  },
  {
   "cell_type": "code",
   "execution_count": 581,
   "metadata": {},
   "outputs": [],
   "source": [
    "#Dirac delta works the same way a kronecker delta\n",
    "def Piso(a, b, x, y, l):\n",
    "    Pp = DD( ((a+b)%2)   - x*y)\n",
    "    Pn = DD( ((a+b+1)%2) - x*y )\n",
    "    return ((l*Pp + (1 - l)*Pn)/2).subs(DD(0), 1)"
   ]
  },
  {
   "cell_type": "code",
   "execution_count": 582,
   "metadata": {},
   "outputs": [
    {
     "data": {
      "text/latex": [
       "$\\displaystyle \\left(\\frac{λ \\left(\\delta\\left(- x y + \\left(\\left(a + b\\right) \\bmod 2\\right)\\right)\\right)}{2}\\right) + \\left(\\frac{\\left(1 - λ\\right) \\left(\\delta\\left(- x y + \\left(\\left(a + b + 1\\right) \\bmod 2\\right)\\right)\\right)}{2}\\right)$"
      ],
      "text/plain": [
       "λ*DiracDelta(-x*y + Mod(a + b, 2))/2 + (1 - λ)*DiracDelta(-x*y + Mod(a + b + 1, 2))/2"
      ]
     },
     "execution_count": 582,
     "metadata": {},
     "output_type": "execute_result"
    }
   ],
   "source": [
    "#run a test\n",
    "Piso(a,b,x,y,l)"
   ]
  },
  {
   "cell_type": "code",
   "execution_count": 583,
   "metadata": {},
   "outputs": [],
   "source": [
    "#a uniform distribution for 2 possible inputs\n",
    "def P_uni2():\n",
    "    return 1/2"
   ]
  },
  {
   "cell_type": "code",
   "execution_count": 584,
   "metadata": {},
   "outputs": [],
   "source": [
    "#Lets define some entropies\n",
    "#Where f is a probabity distribution function P(X) for example.\n",
    "def H(f):\n",
    "    return -f*sy.log(f, 2)\n",
    "\n",
    "#for 2 variables? might not be needed\n",
    "#H(X,Y) = - Σ_{x,y} p(x,y) * log(p(x,y))"
   ]
  },
  {
   "cell_type": "code",
   "execution_count": 585,
   "metadata": {},
   "outputs": [
    {
     "name": "stdout",
     "output_type": "stream",
     "text": [
      "1.00000000000000 1.00000000000000\n"
     ]
    }
   ],
   "source": [
    "#So for H(X_y) we have:\n",
    "#X_0, can take 0,1 as likely\n",
    "HX0 = np.sum(np.array([H(P_uni2()) for n in range(0,2)]))\n",
    "HX0 = HX0.evalf()\n",
    "#obviously the result will be 1, but it is good to see the functions work\n",
    "HX1 = HX0\n",
    "print(HX0, HX1)"
   ]
  },
  {
   "cell_type": "code",
   "execution_count": 586,
   "metadata": {},
   "outputs": [],
   "source": [
    "HX01 = HX0+HX1"
   ]
  },
  {
   "cell_type": "markdown",
   "metadata": {},
   "source": [
    "Now we want to find out what $ H(b) $ is, which is based off of $P_{iso}(a, b, x, y, l)$. \n",
    "\n",
    "$P(b_{out} = 0| y = 0)$, there are particular permutations of $ a \\oplus b \\oplus x_0 $.\n",
    "\n",
    "$P(a \\oplus b \\oplus x_0| y = 0) = P(a, b | x_0, y=0) \\cdot P(x_0|y=0)$\n",
    "\n",
    "Where the 2nd term in the product is uniformly distributed. \n",
    "\n",
    "The first term is obtain from the isotropic distribution."
   ]
  },
  {
   "cell_type": "code",
   "execution_count": 587,
   "metadata": {},
   "outputs": [],
   "source": [
    "#We have y = 0, b_{out} = 0/1 \n",
    "#Pb_{out}y\n",
    "y=0\n",
    "P00 = 0\n",
    "P10 = 0\n",
    "for a, b, x0 in iters([0, 1], repeat =3):\n",
    "    if a ^ b ^ x0 == 0: # we look at h\n",
    "        P00+= Piso(a, b, x0, y,l)/2\n",
    "    elif a ^ b ^ x0 == 1:\n",
    "        P10+= Piso(a, b, x0, y,l)/2"
   ]
  },
  {
   "cell_type": "code",
   "execution_count": 588,
   "metadata": {},
   "outputs": [
    {
     "data": {
      "text/latex": [
       "$\\displaystyle \\frac{1}{2}$"
      ],
      "text/plain": [
       "1/2"
      ]
     },
     "execution_count": 588,
     "metadata": {},
     "output_type": "execute_result"
    }
   ],
   "source": [
    "P00"
   ]
  },
  {
   "cell_type": "code",
   "execution_count": 589,
   "metadata": {},
   "outputs": [
    {
     "data": {
      "text/latex": [
       "$\\displaystyle \\frac{1}{2}$"
      ],
      "text/plain": [
       "1/2"
      ]
     },
     "execution_count": 589,
     "metadata": {},
     "output_type": "execute_result"
    }
   ],
   "source": [
    "P10"
   ]
  },
  {
   "cell_type": "code",
   "execution_count": 590,
   "metadata": {},
   "outputs": [],
   "source": [
    "#We have y = 1, b_ = 0/1 \n",
    "#Pb_y\n",
    "y=1\n",
    "P01 = 0\n",
    "P11 = 0\n",
    "for a, b, x0 in iters([0, 1], repeat =3):\n",
    "    if a ^ b ^ x0 == 0: # we look at h\n",
    "        P01+= Piso(a, b, x0, y,l)/2\n",
    "    elif a ^ b ^ x0 == 1:\n",
    "        P11+= Piso(a, b, x0, y,l)/2"
   ]
  },
  {
   "cell_type": "code",
   "execution_count": 591,
   "metadata": {},
   "outputs": [
    {
     "data": {
      "text/latex": [
       "$\\displaystyle λ$"
      ],
      "text/plain": [
       "λ"
      ]
     },
     "execution_count": 591,
     "metadata": {},
     "output_type": "execute_result"
    }
   ],
   "source": [
    "P01"
   ]
  },
  {
   "cell_type": "code",
   "execution_count": 592,
   "metadata": {},
   "outputs": [
    {
     "data": {
      "text/latex": [
       "$\\displaystyle 1 - λ$"
      ],
      "text/plain": [
       "1 - λ"
      ]
     },
     "execution_count": 592,
     "metadata": {},
     "output_type": "execute_result"
    }
   ],
   "source": [
    "P11"
   ]
  },
  {
   "cell_type": "markdown",
   "metadata": {},
   "source": [
    "Weird result, Im getting λ and λ-1, where I expected 1/2 from the previous result.\n",
    "Colleagues told me it should be 1/2 so I am manually fixing this mistake, I can't see in the code what the problem might be."
   ]
  },
  {
   "cell_type": "code",
   "execution_count": 593,
   "metadata": {},
   "outputs": [],
   "source": [
    "P01 = 1/2\n",
    "P11 = 1/2"
   ]
  },
  {
   "cell_type": "code",
   "execution_count": 594,
   "metadata": {},
   "outputs": [
    {
     "data": {
      "text/latex": [
       "$\\displaystyle \\left[\\begin{matrix}\\frac{1}{2}\\\\\\frac{0.346573590279973}{\\log{\\left(2 \\right)}}\\\\\\frac{1}{2}\\\\\\frac{0.346573590279973}{\\log{\\left(2 \\right)}}\\end{matrix}\\right]$"
      ],
      "text/plain": [
       "Matrix([\n",
       "[                     1/2],\n",
       "[0.346573590279973/log(2)],\n",
       "[                     1/2],\n",
       "[0.346573590279973/log(2)]])"
      ]
     },
     "execution_count": 594,
     "metadata": {},
     "output_type": "execute_result"
    }
   ],
   "source": [
    "Hb = sy.Matrix([H(P00), H(P01), H(P10), H(P11)])\n",
    "Hb"
   ]
  },
  {
   "cell_type": "markdown",
   "metadata": {},
   "source": [
    "0.34/log2 means  mean 0.34/ln2 = 0.34/0.64 something which is 1/2. \n",
    "What a stupid fucking way to calculate it, but I am no programmer so no idea why it does it like that."
   ]
  },
  {
   "cell_type": "code",
   "execution_count": 595,
   "metadata": {},
   "outputs": [],
   "source": [
    "#Again I manually set the correct entropy\n",
    "Hb0 = 1\n",
    "Hb1 = 1"
   ]
  },
  {
   "cell_type": "markdown",
   "metadata": {},
   "source": [
    "Finally we have to figure out how to calculate $H(b,X_y)$, which is based on the distribution $P(b, X_y)$.\n",
    "\n",
    "Generally: $P(a,b) = P(a) \\cdot P(b|a)$\n",
    "\n",
    "We are looking for \n",
    "$P(b_{out}, x_0 | y )$ with $b = a \\oplus b \\oplus x_0$ and $b_{out}, x_0, y, a, b \\in \\{ 0, 1\\}$\n",
    "\n",
    "$$ P(a \\oplus b \\oplus x_0, x_0 | y) = P(a, b| x_0, y) \\cdot P(x_0|y)$$"
   ]
  },
  {
   "cell_type": "code",
   "execution_count": 596,
   "metadata": {},
   "outputs": [],
   "source": [
    "Pjoint0 = []\n",
    "y=0\n",
    "for b_, x0 in iters([0, 1], repeat =2):\n",
    "    temp = 0\n",
    "    for a ,b in iters([0, 1], repeat = 2):\n",
    "        if a ^ b ^ x0 == b_ :\n",
    "             temp += Piso(a, b, x0, y, l)/2\n",
    "    Pjoint0.append(temp)"
   ]
  },
  {
   "cell_type": "code",
   "execution_count": 597,
   "metadata": {},
   "outputs": [],
   "source": [
    "Pjoint1 = []\n",
    "y=1\n",
    "for b_, x0 in iters([0, 1], repeat =2):\n",
    "    temp = 0\n",
    "    for a ,b in iters([0, 1], repeat = 2):\n",
    "        if a ^ b ^ x0 == b_ :\n",
    "             temp += Piso(a, b, x0, y, l)/2\n",
    "    Pjoint1.append(temp)"
   ]
  },
  {
   "cell_type": "code",
   "execution_count": 598,
   "metadata": {},
   "outputs": [
    {
     "data": {
      "text/latex": [
       "$\\displaystyle \\left[\\begin{matrix}\\frac{λ}{2}\\\\\\frac{1}{2} - \\frac{λ}{2}\\\\\\frac{1}{2} - \\frac{λ}{2}\\\\\\frac{λ}{2}\\end{matrix}\\right]$"
      ],
      "text/plain": [
       "Matrix([\n",
       "[      λ/2],\n",
       "[1/2 - λ/2],\n",
       "[1/2 - λ/2],\n",
       "[      λ/2]])"
      ]
     },
     "execution_count": 598,
     "metadata": {},
     "output_type": "execute_result"
    }
   ],
   "source": [
    "sy.Matrix(Pjoint0)"
   ]
  },
  {
   "cell_type": "code",
   "execution_count": 599,
   "metadata": {},
   "outputs": [
    {
     "data": {
      "text/latex": [
       "$\\displaystyle \\left[\\begin{matrix}\\frac{λ}{2}\\\\\\frac{λ}{2}\\\\\\frac{1}{2} - \\frac{λ}{2}\\\\\\frac{1}{2} - \\frac{λ}{2}\\end{matrix}\\right]$"
      ],
      "text/plain": [
       "Matrix([\n",
       "[      λ/2],\n",
       "[      λ/2],\n",
       "[1/2 - λ/2],\n",
       "[1/2 - λ/2]])"
      ]
     },
     "execution_count": 599,
     "metadata": {},
     "output_type": "execute_result"
    }
   ],
   "source": [
    "sy.Matrix(Pjoint1)"
   ]
  },
  {
   "cell_type": "code",
   "execution_count": 600,
   "metadata": {},
   "outputs": [],
   "source": [
    "Hj0 = 0\n",
    "Hj1 = 0\n",
    "for i in range(0, 4):\n",
    "    Hj0 += H(Pjoint0[i])\n",
    "    Hj1 += H(Pjoint1[i])"
   ]
  },
  {
   "cell_type": "code",
   "execution_count": 608,
   "metadata": {},
   "outputs": [
    {
     "data": {
      "text/latex": [
       "$\\displaystyle - \\frac{λ \\log{\\left(\\frac{λ}{2} \\right)}}{\\log{\\left(2 \\right)}} + \\frac{2 \\left(\\frac{λ}{2} - \\frac{1}{2}\\right) \\log{\\left(\\frac{1}{2} - \\frac{λ}{2} \\right)}}{\\log{\\left(2 \\right)}}$"
      ],
      "text/plain": [
       "-λ*log(λ/2)/log(2) + 2*(λ/2 - 1/2)*log(1/2 - λ/2)/log(2)"
      ]
     },
     "execution_count": 608,
     "metadata": {},
     "output_type": "execute_result"
    }
   ],
   "source": [
    "Hj0"
   ]
  },
  {
   "cell_type": "code",
   "execution_count": 609,
   "metadata": {},
   "outputs": [
    {
     "data": {
      "text/latex": [
       "$\\displaystyle - \\frac{λ \\log{\\left(\\frac{λ}{2} \\right)}}{\\log{\\left(2 \\right)}} + \\frac{2 \\left(\\frac{λ}{2} - \\frac{1}{2}\\right) \\log{\\left(\\frac{1}{2} - \\frac{λ}{2} \\right)}}{\\log{\\left(2 \\right)}}$"
      ],
      "text/plain": [
       "-λ*log(λ/2)/log(2) + 2*(λ/2 - 1/2)*log(1/2 - λ/2)/log(2)"
      ]
     },
     "execution_count": 609,
     "metadata": {},
     "output_type": "execute_result"
    }
   ],
   "source": [
    "Hj1"
   ]
  },
  {
   "cell_type": "markdown",
   "metadata": {},
   "source": [
    "These expressions can be rewritten as:\n",
    "\n",
    "$$ H_{joint} = 1 - \\lambda log_2 \\lambda + (\\lambda -1) log_2(1-\\lambda) $$"
   ]
  },
  {
   "cell_type": "markdown",
   "metadata": {},
   "source": [
    "Then we have \n",
    "$$ I(B:X_i) = 1 - \\lambda log_2 \\lambda + (1-\\lambda) \\log_2(1-\\lambda)$$"
   ]
  },
  {
   "cell_type": "markdown",
   "metadata": {},
   "source": [
    "So in the end we have the above term 2 times since it is the same for i=0 or 1.\n",
    "Finally we evaluate (well Wolframalpha did) that for\n",
    "$$ 0.110028 < \\lambda < 0.889972$$\n",
    "the equation holds. i.e for $\\lambda$ outside of these boundaries it violates the inequality"
   ]
  },
  {
   "cell_type": "markdown",
   "metadata": {},
   "source": [
    "For an isotropic box we have\n",
    "$$ CHSH(P) = \\mu $$\n",
    "with\n",
    "$$ \\lambda = \\mu/8 + 1/2$$"
   ]
  },
  {
   "cell_type": "code",
   "execution_count": 612,
   "metadata": {},
   "outputs": [],
   "source": [
    "def mu(λ):\n",
    "    return 8*λ-4"
   ]
  },
  {
   "cell_type": "code",
   "execution_count": 613,
   "metadata": {},
   "outputs": [
    {
     "data": {
      "text/plain": [
       "3.119776"
      ]
     },
     "execution_count": 613,
     "metadata": {},
     "output_type": "execute_result"
    }
   ],
   "source": [
    "mu(0.889972)"
   ]
  },
  {
   "cell_type": "markdown",
   "metadata": {},
   "source": [
    "It seems that the CHSH value exceeds the Tsirelson bound although information causality is not violated or at the limit of being."
   ]
  }
 ],
 "metadata": {
  "kernelspec": {
   "display_name": "Python 3.10.8 64-bit",
   "language": "python",
   "name": "python3"
  },
  "language_info": {
   "codemirror_mode": {
    "name": "ipython",
    "version": 3
   },
   "file_extension": ".py",
   "mimetype": "text/x-python",
   "name": "python",
   "nbconvert_exporter": "python",
   "pygments_lexer": "ipython3",
   "version": "3.10.9"
  },
  "orig_nbformat": 4,
  "vscode": {
   "interpreter": {
    "hash": "e7370f93d1d0cde622a1f8e1c04877d8463912d04d973331ad4851f04de6915a"
   }
  }
 },
 "nbformat": 4,
 "nbformat_minor": 2
}
