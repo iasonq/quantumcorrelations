{
 "cells": [
  {
   "cell_type": "code",
   "execution_count": 140,
   "metadata": {},
   "outputs": [],
   "source": [
    "import numpy as np\n",
    "import cvxpy as cp\n",
    "import itertools\n",
    "from itertools import product as iters"
   ]
  },
  {
   "cell_type": "markdown",
   "metadata": {},
   "source": [
    "I. TWO POINT QUANTUM CORRELATORS"
   ]
  },
  {
   "cell_type": "markdown",
   "metadata": {},
   "source": [
    "Direct implementation of what is in the exercises"
   ]
  },
  {
   "cell_type": "code",
   "execution_count": 141,
   "metadata": {},
   "outputs": [],
   "source": [
    "def B(P, n):\n",
    "    s1 = 0\n",
    "    for i in range(0, n): #from 1 to n in the sheet\n",
    "        s1 += exAB(i, i, P, n)\n",
    "    s2 = 0\n",
    "    for i in range(0, n-1): #from 1 to n-1 in the sheet\n",
    "        s2 += exAB(i+1, i, P, n)\n",
    "    se = exAB(0, n-1, P, n)\n",
    "    s = s1+s2-se\n",
    "    return s\n",
    "\n",
    "def exAB(x, y, P, n):\n",
    "    S = 0\n",
    "    for a, b in iters([0, 1], repeat=2):\n",
    "            S += (-1)**(a+b)*P[1*a+2*b, 1*x+n*y]\n",
    "    return S"
   ]
  },
  {
   "cell_type": "code",
   "execution_count": 142,
   "metadata": {},
   "outputs": [
    {
     "name": "stdout",
     "output_type": "stream",
     "text": [
      "n = 2 | 3.999999998627687\n",
      "n = 3 | -inf\n",
      "n = 4 | -inf\n",
      "n = 5 | -inf\n",
      "n = 6 | -inf\n"
     ]
    }
   ],
   "source": [
    "for n in range(2, 7):\n",
    "    P = cp.Variable((4, n**2))\n",
    "    constraints = [P >= 0]\n",
    "    constraints+= [P <= 1]\n",
    "    constraints+= [cp.sum(P) == 2*n]\n",
    "    for i in range(0, 4):\n",
    "        constraints+= [cp.sum(P[i, :]) == 1]\n",
    "    for j in range(0, n):\n",
    "        constraints+= [ cp.sum(P[:, j]) == 2/n]\n",
    "    prob = cp.Problem(cp.Maximize(B(P, n)), constraints)\n",
    "    print(\"n = \" + str(n) + \" |\", prob.solve())"
   ]
  },
  {
   "cell_type": "markdown",
   "metadata": {},
   "source": [
    "Different approach based on lecture notes"
   ]
  },
  {
   "cell_type": "markdown",
   "metadata": {},
   "source": [
    "Main idea:\n",
    "Define γ = (\n",
    "    0, Pt\n",
    "    P, 0 \n",
    ")\n",
    "Define P based on the functional\n",
    "Do X = cp.Variable((2*n, 2*n), symmetric=True)\n",
    "cp.Optimize(cp.trace(γ@X))"
   ]
  },
  {
   "cell_type": "code",
   "execution_count": 143,
   "metadata": {},
   "outputs": [],
   "source": [
    "def Pf(n):\n",
    "    P = np.zeros((n, n))\n",
    "    for i in range(0, n):\n",
    "        P[i, i] = 1\n",
    "    for i in range(0, n-1):\n",
    "        P[i+1, i] = 1\n",
    "    P[0, n-1] = -1\n",
    "    return P\n",
    "\n",
    "def gamma(P,n):\n",
    "    zer = np.zeros((n,n))\n",
    "    g = np.block([[zer, P.T], [P, zer]])\n",
    "    return g"
   ]
  },
  {
   "cell_type": "code",
   "execution_count": 144,
   "metadata": {},
   "outputs": [
    {
     "name": "stdout",
     "output_type": "stream",
     "text": [
      "n = 2 | 2.828427124639405\n",
      "n = 3 | 5.196152427563769\n",
      "n = 4 | 7.391037008387376\n",
      "n = 5 | 9.51059333335389\n",
      "n = 6 | 11.591107813376679\n"
     ]
    }
   ],
   "source": [
    "for n in range(2, 7):\n",
    "\n",
    "    P = Pf(n)\n",
    "    g = gamma(P,n)\n",
    "\n",
    "\n",
    "    X = cp.Variable((2*n, 2*n), PSD=True)\n",
    "    \n",
    "    con = []\n",
    "    con+= [X[i, i] == 1 for i in range(0, 2*n)]\n",
    "    #for i in range(2*n):\n",
    "    #    con.append(X[i, i] == 1)\n",
    "\n",
    "    obj = cp.Maximize( cp.trace(g@X)/2 )\n",
    "    prob = cp.Problem( obj , con)\n",
    "    print(\"n = \" + str(n) + \" |\", prob.solve())\n"
   ]
  },
  {
   "cell_type": "markdown",
   "metadata": {},
   "source": [
    "II. INFORMATION CAUSALITY"
   ]
  },
  {
   "cell_type": "code",
   "execution_count": 145,
   "metadata": {},
   "outputs": [],
   "source": [
    "import sympy as sy\n",
    "from sympy.abc import a,b,x,y,l\n",
    "from sympy import DiracDelta as DD\n",
    "x0 = sy.Symbol(\"x_0\")\n",
    "x1 = sy.Symbol(\"x_1\")"
   ]
  },
  {
   "cell_type": "markdown",
   "metadata": {},
   "source": [
    "We want to see if information causality is violated, or better said for what λ it is. \n",
    "\n",
    "That means we to find the λ for which the following equation is violated/does not hold:\n",
    "$$ \\sum_y I(b:X_y) \\leq m = 1$$\n",
    "we use that\n",
    "$$ I(b:X_y) = H(b) + H(X_y) - H(b, X_y)$$\n",
    "where $H(b, X_y)$ is the joint entropy.\n",
    "We can also split the term $I(b:X_y) = I(b:X_0) + I(b:X_1)$ and calculate.\n",
    "\n",
    "Generally:\n",
    "$$ H(x) = -P(x) log_2(P(x)) $$\n",
    "which can be done analogously for $H(b, X_y)$,\n",
    "\n",
    "$$ H(b, X_y) = -\\sum_{b,y} P(b, X_y) \\log_2(P(b, X_y)) $$"
   ]
  },
  {
   "cell_type": "markdown",
   "metadata": {},
   "source": [
    "Secondary note:\n",
    "$$ H(X|Y):=\\sum_{xy} p(x|y)\\log p(x|y) p(y) $$"
   ]
  },
  {
   "cell_type": "markdown",
   "metadata": {},
   "source": [
    "To clarify:\n",
    "$$ H(b) $$\n",
    "takes the isotropic distribution.\n",
    "\n",
    "While \n",
    "$$ H(X_y)$$\n",
    "takes a uniform distribution, i.e equal outcomes for any input. We have $x_0, x_1 \\in \\{ 0, 1\\}$."
   ]
  },
  {
   "cell_type": "code",
   "execution_count": 195,
   "metadata": {},
   "outputs": [],
   "source": [
    "#Dirac delta works the same way a kronecker delta\n",
    "def Piso(a, b, x, y, l):\n",
    "    Pp = DD( ((a+b)%2)   - x*y)\n",
    "    Pn = DD( ((a+b+1)%2) - x*y )\n",
    "    return (l*Pp + (1 - l)*Pn)/2"
   ]
  },
  {
   "cell_type": "code",
   "execution_count": 198,
   "metadata": {},
   "outputs": [
    {
     "data": {
      "text/latex": [
       "$\\displaystyle \\frac{l \\delta\\left(x\\right)}{2} + \\frac{\\left(1 - l\\right) \\delta\\left(1 - x\\right)}{2}$"
      ],
      "text/plain": [
       "l*DiracDelta(x)/2 + (1 - l)*DiracDelta(1 - x)/2"
      ]
     },
     "execution_count": 198,
     "metadata": {},
     "output_type": "execute_result"
    }
   ],
   "source": [
    "#run a test\n",
    "Piso(a,b,x,y,l).subs(DD(0), 1)"
   ]
  },
  {
   "cell_type": "code",
   "execution_count": 200,
   "metadata": {},
   "outputs": [
    {
     "data": {
      "text/plain": [
       "(l*DiracDelta(0)/2, l/2)"
      ]
     },
     "execution_count": 200,
     "metadata": {},
     "output_type": "execute_result"
    }
   ],
   "source": [
    "#Some testing, on how to get rid of δ(0)\n",
    "Piso(0,0,1,0,l), Piso(0,0,1,0,l).subs(DD(0), 1)"
   ]
  },
  {
   "cell_type": "code",
   "execution_count": 202,
   "metadata": {},
   "outputs": [],
   "source": [
    "#a uniform distribution for 2 possible inputs\n",
    "def P_uni2():\n",
    "    return 1/2"
   ]
  },
  {
   "cell_type": "code",
   "execution_count": 201,
   "metadata": {},
   "outputs": [],
   "source": [
    "#Lets define some entropies\n",
    "#Where f is a probabity distribution function P(X) for example.\n",
    "def H(f):\n",
    "    return -f*sy.log(f, 2)\n",
    "\n",
    "#for 2 variables? might not be needed\n",
    "#H(X,Y) = - Σ_{x,y} p(x,y) * log(p(x,y))"
   ]
  },
  {
   "cell_type": "code",
   "execution_count": 203,
   "metadata": {},
   "outputs": [
    {
     "name": "stdout",
     "output_type": "stream",
     "text": [
      "1.00000000000000 1.00000000000000\n"
     ]
    }
   ],
   "source": [
    "#So for H(X_y) we have:\n",
    "#X_0, can take 0,1 as likely\n",
    "HX0 = np.sum(np.array([H(P_uni2()) for n in range(0,2)]))\n",
    "HX0 = HX0.evalf()\n",
    "#obviously the result will be 1, but it is good to see the functions work\n",
    "HX1 = HX0\n",
    "print(HX0, HX1)"
   ]
  },
  {
   "cell_type": "markdown",
   "metadata": {},
   "source": [
    "Now we want to find out what $ H(b) $ is, which is based off of $P_{iso}(a, b, x, y, l)$. \n",
    "\n",
    "$P(b = 0| y = 0)$, there are particular permutations of $ a \\oplus \\tilde{b} \\oplus x_0 $.\n",
    "\n",
    "$P(a \\oplus \\tilde{b} \\oplus x_0| y = 0) = P(a, b | x_0, y=0) \\cdot P(x_0|y=0)$\n",
    "\n",
    "Where the 2nd term in the product is uniformly distributed. \n",
    "\n",
    "The first term is obtain from the isotropic distribution."
   ]
  },
  {
   "cell_type": "code",
   "execution_count": 229,
   "metadata": {},
   "outputs": [
    {
     "name": "stdout",
     "output_type": "stream",
     "text": [
      "1/2 1/2\n"
     ]
    }
   ],
   "source": [
    "#We have y = 0, b = 0/1 \n",
    "#Pby\n",
    "y=0\n",
    "P00 = 0\n",
    "P10 = 0\n",
    "for a, b, x0 in iters([0, 1], repeat =3):\n",
    "    if a ^ b ^ x0 == 0: # we look at h\n",
    "        P00+= Piso(a, b, x0, y,l)/2\n",
    "    elif a ^ b ^ x0 == 1:\n",
    "        P10+= Piso(a, b, x0, y,l)/2\n",
    "P00 = P00.subs(DD(0), 1)\n",
    "P10 = P10.subs(DD(0), 1)\n",
    "print(P00, P10)"
   ]
  },
  {
   "cell_type": "code",
   "execution_count": 230,
   "metadata": {},
   "outputs": [
    {
     "name": "stdout",
     "output_type": "stream",
     "text": [
      "1/2 1/2\n"
     ]
    }
   ],
   "source": [
    "#We have y = 1, b = 0/1 \n",
    "#Pby\n",
    "y=1\n",
    "P01 = 0\n",
    "P11 = 0\n",
    "for a, b, x0 in iters([0, 1], repeat =3):\n",
    "    if a ^ b ^ x0 == 0: # we look at h\n",
    "        P01+= Piso(a, b, x0, y,l)/2\n",
    "    elif a ^ b ^ x0 == 1:\n",
    "        P11+= Piso(a, b, x0, y,l)/2\n",
    "P01 = P01.subs(DD(0), 1)\n",
    "P11 = P11.subs(DD(0), 1)\n",
    "print(P00, P10)"
   ]
  },
  {
   "cell_type": "markdown",
   "metadata": {},
   "source": [
    "So we obtain $P(b|y) = 1/2$ for all permutation of b,y."
   ]
  },
  {
   "cell_type": "markdown",
   "metadata": {},
   "source": [
    "Finally we have to figure out how to calculate $H(b,X_y)$, which is based on the distribution $P(b, X_y)$.\n",
    "\n",
    "Generally: $P(a,b) = P(a) \\cdot P(b|a)$"
   ]
  },
  {
   "cell_type": "markdown",
   "metadata": {},
   "source": []
  }
 ],
 "metadata": {
  "kernelspec": {
   "display_name": "Python 3.10.8 64-bit",
   "language": "python",
   "name": "python3"
  },
  "language_info": {
   "codemirror_mode": {
    "name": "ipython",
    "version": 3
   },
   "file_extension": ".py",
   "mimetype": "text/x-python",
   "name": "python",
   "nbconvert_exporter": "python",
   "pygments_lexer": "ipython3",
   "version": "3.10.9"
  },
  "orig_nbformat": 4,
  "vscode": {
   "interpreter": {
    "hash": "e7370f93d1d0cde622a1f8e1c04877d8463912d04d973331ad4851f04de6915a"
   }
  }
 },
 "nbformat": 4,
 "nbformat_minor": 2
}
