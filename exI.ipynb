{
 "cells": [
  {
   "cell_type": "code",
   "execution_count": 6,
   "metadata": {},
   "outputs": [],
   "source": [
    "import numpy as np\n",
    "import cvxpy as cp\n",
    "import itertools\n",
    "from itertools import product as iters"
   ]
  },
  {
   "cell_type": "markdown",
   "metadata": {},
   "source": [
    "I. THE MYSTERY BOX"
   ]
  },
  {
   "cell_type": "code",
   "execution_count": 14,
   "metadata": {},
   "outputs": [],
   "source": [
    "def P(a,b,x1,x2,y1,y2):\n",
    "    if (a + b) % 2 == (x1*y1 + x2*y2) % 2:\n",
    "        return 1/2\n",
    "    else:\n",
    "        return 0 \n",
    "\n",
    "def Pa(a, x1,x2,y1,y2): \n",
    "    return P(a, 0, x1,x2,y1,y2) + P(a, 1, x1,x2,y1,y2)\n",
    "\n",
    "def Pb(b, x1,x2,y1,y2): \n",
    "    return P(0, b, x1,x2,y1,y2) + P(1, b, x1,x2,y1,y2)"
   ]
  },
  {
   "cell_type": "markdown",
   "metadata": {},
   "source": [
    "P1: Check NS condition"
   ]
  },
  {
   "cell_type": "code",
   "execution_count": 15,
   "metadata": {},
   "outputs": [
    {
     "name": "stdout",
     "output_type": "stream",
     "text": [
      "No-Signaling:  True\n"
     ]
    }
   ],
   "source": [
    "flag = True\n",
    "for x1, y1, x2, y2 in iters(range(2), repeat=4): #range 2, repeat 4 for 4 variables\n",
    "    for l1, l2 in iters(range(2), repeat=2):\n",
    "        for a in range(0, 2):\n",
    "            if Pa(a,x1,x2,y1,y2) != Pa(a,x1,x2,l1,l2):\n",
    "                flag = False\n",
    "        for b in range(0, 2):\n",
    "            if Pb(b,x1,x2,y1,y2) != Pb(b,l1,l2,y1,y2):\n",
    "                flag = False        \n",
    "print(\"No-Signaling: \", flag)      "
   ]
  },
  {
   "cell_type": "markdown",
   "metadata": {},
   "source": [
    "Confirmed that $P$ is a no-signalling distribution"
   ]
  },
  {
   "cell_type": "markdown",
   "metadata": {},
   "source": [
    "P2: Is P local?"
   ]
  },
  {
   "cell_type": "markdown",
   "metadata": {},
   "source": [
    "From the lecture notes : classical set, last page, solution Froissant\n",
    "\n",
    "$$ \\min \\ \\lambda$$\n",
    "such that \n",
    "$$ P(\\tilde{a}, \\tilde{b}| x, y) + Q(\\tilde{a}, \\tilde{b}|x,y) = \\sum_{a', b'} \\mu(a', b') P_{a', b'}(\\tilde{a}, \\tilde{b}|x,y) $$\n",
    "\n",
    "$$ \\mu(a', b') \\geq 0, \\sum_{a', b'} \\mu(a', b')  = 1$$\n",
    "\n",
    "$$ \\lambda \\geq Q(\\tilde{a}, \\tilde{b}|x,y) \\geq - \\lambda$$\n",
    "\n",
    "To be local $\\lambda$ must be 0"
   ]
  },
  {
   "cell_type": "code",
   "execution_count": 26,
   "metadata": {},
   "outputs": [],
   "source": [
    "def PL(a, b, x1, x2, y1, y2, μ):\n",
    "    P = 0\n",
    "    for a00, a01, a10, a11, b00, b01, b10, b11 in iters([0, 1], repeat = 8):\n",
    "        ar = np.array([[a00, a01],[a10, a11]])\n",
    "        br = np.array([[b00, b01],[b10, b11]])\n",
    "        #Implemented deterministic (delta) distribution\n",
    "        #flatten μ\n",
    "        #μ = np.reshape(μ, (256, 1))\n",
    "        indi = 1*a+2*b+4*x1+8*x2+16*y1+32*y2\n",
    "        if ar[x1, x2] == a:\n",
    "            if br[x1, x2] == b:\n",
    "                P += μ[indi]\n",
    "    return P"
   ]
  },
  {
   "cell_type": "code",
   "execution_count": 17,
   "metadata": {},
   "outputs": [
    {
     "name": "stdout",
     "output_type": "stream",
     "text": [
      "-3.523030486693782e-14\n"
     ]
    }
   ],
   "source": [
    "λ = cp.Variable()\n",
    "Q = cp.Variable((64,1)) # 64 rows, 1 column\n",
    "P_ar = np.array([P(a, b, x1,x2,y1,y2) for a, b, x1,x2,y1,y2 in iters(range(0, 2), repeat=6 )])\n",
    "P_ar = P_ar.reshape((64, 1)) #reshape because otherwise this shit shits itself\n",
    "μ = cp.Variable(256) # 64 rows 4 columns 00, 01, 10, 11 \n",
    "\n",
    "#my variant\n",
    "Pain = cp.bmat([[PL(a, b, x1,x2,y1,y2, μ)] for a, b, x1,x2,y1,y2 in iters(range(0, 2), repeat=6 ) ])\n",
    "#it needs the [] around the P to work , thanks David\n",
    "\n",
    "\"\"\"Running the lp with constraints\"\"\"\n",
    "constraints = [P_ar + Q == Pain]\n",
    "constraints+= [μ >= 0] \n",
    "constraints+= [cp.sum(μ) == 1] \n",
    "#Is this right? I might need to write something more elaborate?\n",
    "#This is one of the differences between mine and David's - I get local he doesn't\n",
    "#the same 256 entries of μ are applied in each line during the cal. not sure that fits but w/e\n",
    "#Would I need 64x256? Use a new μ for every line? Seems kinda overkill?\n",
    "constraints+= [Q <= λ, Q >= -λ ]\n",
    "\n",
    "prob = cp.Problem(cp.Minimize(λ),\n",
    "                 constraints)\n",
    "print(prob.solve())"
   ]
  },
  {
   "cell_type": "markdown",
   "metadata": {},
   "source": [
    "Well this looks local, since λ is close to 0 i.e no noise needed to be added to make the distribution local"
   ]
  },
  {
   "cell_type": "markdown",
   "metadata": {},
   "source": [
    "II. MAXIMIZING BELL FUNCTIONALS "
   ]
  },
  {
   "cell_type": "markdown",
   "metadata": {},
   "source": [
    "P.1 Prove equation (2)\n",
    "\n",
    "Assume that $x$ is not an extreme point. Let there be an $v_m$ such that $f(v_m) = \\max f(v_i) \\forall i$, where $v_i$ are extreme points.\n",
    "\n",
    "Since $x$ is not an extreme point it can be written as a convex combination of extreme points and using linearity we get:\n",
    "\n",
    "$$ f(x) = f(\\sum \\lambda_i v_i) = \\sum \\lambda_i f(v_i) \\leq \\sum \\lambda_i f(v_m) = f(v_m)$$\n",
    "\n",
    "Obviously we use that $\\sum \\lambda_i = 1$\n",
    "\n",
    "So for any point that can be written as a convex combination (i.e $\\forall s \\in S$) of extreme points there exists an extreme point that gives a higher value for the function i.e maximizes it."
   ]
  },
  {
   "cell_type": "markdown",
   "metadata": {},
   "source": [
    "P.2 Find the maximum of \n",
    "\n",
    "$$ B(P ) := P (0, 0, 0|0, 0, 0) + P (1, 1, 0|0, 1, 1) + P (0, 1, 1|1, 0, 1) + P (1, 0, 1|1, 1, 0) $$\n",
    "\n",
    "for $P \\in L$\n",
    "\n",
    "Since $P \\in L$ we know that extreme points maximize such a functional and that the extreme points are deterministic boxes of the form\n",
    "\n",
    "$$ P(a, b, c|x, y, z) = \\delta_{\\tilde{a},a_x } \\delta_{\\tilde{b},b_y} \\delta_{\\tilde{c},c_z} $$\n",
    "\n",
    "Using that and plugging in the values we get that \n",
    "\n",
    "$$\\max (B(P)) = 1$$"
   ]
  },
  {
   "cell_type": "markdown",
   "metadata": {},
   "source": [
    "P.3 Find maximum for $P \\in NS$ numerically\n",
    "\n",
    "The facets of the NS set correspond to the constraint $P(a,b|x,y) \\geq 0 $"
   ]
  },
  {
   "cell_type": "markdown",
   "metadata": {},
   "source": [
    "Maximize B(P) for $P \\in NS$.\n",
    "\n",
    "Use constraints: NS $P_a = \\sum_a P$, and normalization."
   ]
  },
  {
   "cell_type": "markdown",
   "metadata": {},
   "source": [
    "Idea: Take the deterministic local function and add some noise to it under NS conditions to make a NS distribution. \n",
    "\n",
    "Try to maximize the Bell functional which depends on P, μ. \n",
    "Where μ will be added to P? "
   ]
  },
  {
   "cell_type": "code",
   "execution_count": 20,
   "metadata": {},
   "outputs": [],
   "source": [
    "#This is the deterministic function\n",
    "def P_L(a, b, c, x, y, z, μ):\n",
    "    Pl = 0\n",
    "    for a0, a1, b0, b1, c0, c1 in iters([0, 1], repeat=6):\n",
    "        ar = np.array([a0, a1])\n",
    "        br = np.array([b0, b1])\n",
    "        cr = np.array([c0, c1])\n",
    "        if ar[x] == a:\n",
    "            if br[y] == b:\n",
    "                if cr[z] == c:\n",
    "                    Pl += μ[1*a+2*b+4*c+8*x+16*y+32*z]\n",
    "    return Pl\n",
    "\n",
    "#Define marginals\n",
    "#Define them as P_a or P_ab? \n",
    "#eh I guess either way should be enough to satisfy NS\n",
    "#reduce unnecessary args?\n",
    "\n",
    "def P_La(a, x, y, z, μ):\n",
    "    mgl = 0\n",
    "    for k, l in iters([0,1], repeat=2):\n",
    "        mgl+= P_L(a, k, l, x, y, z, μ)\n",
    "    return mgl\n",
    "\n",
    "def P_Lb(b, y, x, z, μ):\n",
    "    mgl = 0\n",
    "    for k, l in iters([0,1], repeat=2):\n",
    "        mgl+= P_L(k, b, l, x, y, z, μ)\n",
    "    return mgl\n",
    "\n",
    "def P_Lc(c, z, x, y, μ):\n",
    "    mgl = 0\n",
    "    for k, l in iters([0,1], repeat=2):\n",
    "        mgl+= P_L(k, l, c, x, y, z, μ)\n",
    "    return mgl\n",
    "\n",
    "\n",
    "#Bell functional\n",
    "#We want to maximize this\n",
    "def Bell(P, μ):\n",
    "    val = P(0, 0, 0, 0, 0, 0, μ)+P(1, 1, 0, 0, 1, 1, μ) +P(0, 1, 1, 1, 0, 1, μ)+P(1, 0, 1, 1, 1, 0, μ)\n",
    "    return val\n",
    "\n",
    "\n",
    "#Set up conditions\n",
    "\n",
    "#NS conditions for the distribution\n",
    "#Based on the marginals defined above\n",
    "def NS_cond(μ):\n",
    "    #P takes 6 args\n",
    "    condi = []\n",
    "    for dist in [P_La, P_Lb, P_Lc]:\n",
    "        for var, l1, l2, l3 in iters([0,1], repeat = 4):\n",
    "            condi.append( dist(var, l1, l2, l3, μ) == dist(var, l1, 0, 0, μ) )\n",
    "\n",
    "            \"\"\"\n",
    "            simple variant of the conditions\n",
    "            for k2, k3 in iters([0,1], repeat=2):\n",
    "                condi.append( dist(var, l1, l2, l3, μ) == dist(var, l1, k2, k3, μ) )\n",
    "                I could also replace k2, k3 with 0, should give the same result\n",
    "                 only var and l1 are important to be varied on the right side still\n",
    "                is it too much to shuffle through all l1, l2? \n",
    "                \"\"\"\n",
    "                \n",
    "    return condi"
   ]
  },
  {
   "cell_type": "code",
   "execution_count": 15,
   "metadata": {},
   "outputs": [],
   "source": [
    "#maybe useless\n",
    "def P_Lab(a, b, c, x, y, z, μ):\n",
    "    mgl = 0\n",
    "    for l in range(0, 2):\n",
    "        mgl+= P_L(a, b, l, x, y, z, μ)\n",
    "    return mgl\n",
    "\n",
    "def P_Lac(a, b, c, x, y, z, μ):\n",
    "    mgl = 0\n",
    "    for l in range(0, 2):\n",
    "        mgl+= P_L(a, l, c, x, y, z, μ)\n",
    "    return mgl\n",
    "\n",
    "def P_Lbc(a, b, c, x, y, z, μ):\n",
    "    mgl = 0\n",
    "    for l in range(0, 2):\n",
    "        mgl+= P_L(l, b, c, x, y, z, μ)\n",
    "    return mgl"
   ]
  },
  {
   "cell_type": "code",
   "execution_count": 17,
   "metadata": {},
   "outputs": [],
   "source": [
    "μ = cp.Variable(64)\n",
    "condi = [μ >= 0]\n",
    "condi+= [cp.sum(μ)==1]\n",
    "condi+=NS_cond(μ)"
   ]
  },
  {
   "cell_type": "code",
   "execution_count": 24,
   "metadata": {},
   "outputs": [],
   "source": [
    "problem =cp.Problem(cp.Maximize(Bell(P_L, μ)), condi)\n",
    "maximum_NS = problem.solve()"
   ]
  },
  {
   "cell_type": "code",
   "execution_count": 25,
   "metadata": {},
   "outputs": [
    {
     "data": {
      "text/plain": [
       "1.9999999998844975"
      ]
     },
     "execution_count": 25,
     "metadata": {},
     "output_type": "execute_result"
    }
   ],
   "source": [
    "maximum_NS"
   ]
  },
  {
   "cell_type": "markdown",
   "metadata": {},
   "source": [
    "I am shocked I obtained a sensible result in the first try"
   ]
  }
 ],
 "metadata": {
  "kernelspec": {
   "display_name": "Python 3.8.8 ('gp-env')",
   "language": "python",
   "name": "python3"
  },
  "language_info": {
   "codemirror_mode": {
    "name": "ipython",
    "version": 3
   },
   "file_extension": ".py",
   "mimetype": "text/x-python",
   "name": "python",
   "nbconvert_exporter": "python",
   "pygments_lexer": "ipython3",
   "version": "3.8.8"
  },
  "orig_nbformat": 4,
  "vscode": {
   "interpreter": {
    "hash": "73cd9ae7a6ba31af761c56d4bd9525bdb85d94ce10f402f23cb9624aa5128c81"
   }
  }
 },
 "nbformat": 4,
 "nbformat_minor": 2
}
